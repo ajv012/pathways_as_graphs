{
 "cells": [
  {
   "cell_type": "code",
   "execution_count": 1,
   "metadata": {},
   "outputs": [],
   "source": [
    "import networkx as nx\n",
    "import pandas as pd"
   ]
  },
  {
   "cell_type": "code",
   "execution_count": 9,
   "metadata": {},
   "outputs": [],
   "source": [
    "class Node:\n",
    "    def __init__(self, name, id, type):\n",
    "        self.name = name\n",
    "        self.id = id\n",
    "        self.type = type \n",
    "    \n",
    "    def _get_name(self):\n",
    "        return self.name\n",
    "    \n",
    "    def _get_type(self):\n",
    "        return self.type\n",
    "    \n",
    "    def _get_id(self):\n",
    "        return self.id"
   ]
  },
  {
   "cell_type": "code",
   "execution_count": 10,
   "metadata": {},
   "outputs": [],
   "source": [
    "# load raw nodes \n",
    "df_raw_nodes = pd.read_csv(\"/media/hdd1/Anurag/Projects/Code/reactome_gnn/superpathway/data/nodes/raw_nodes.txt\", sep=\"\\t\", header=None)\n",
    "df_raw_nodes.rename(columns={0: \"node_type\", 1:\"name\"}, inplace=True)\n",
    "df_raw_nodes.drop_duplicates(\"name\", inplace=True)"
   ]
  },
  {
   "cell_type": "code",
   "execution_count": 11,
   "metadata": {},
   "outputs": [
    {
     "data": {
      "text/plain": [
       "complex     7797\n",
       "protein     7324\n",
       "family      1574\n",
       "abstract     586\n",
       "rna           52\n",
       "miRNA         15\n",
       "Name: node_type, dtype: int64"
      ]
     },
     "execution_count": 11,
     "metadata": {},
     "output_type": "execute_result"
    }
   ],
   "source": [
    "df_raw_nodes[\"node_type\"].value_counts()\n",
    "# 213 extra proteins\n",
    "# 16 fewer complexes "
   ]
  },
  {
   "cell_type": "code",
   "execution_count": 12,
   "metadata": {},
   "outputs": [
    {
     "data": {
      "text/plain": [
       "17348"
      ]
     },
     "execution_count": 12,
     "metadata": {},
     "output_type": "execute_result"
    }
   ],
   "source": [
    "# create unique identifiers for all components (pathway identifiers are added later on in this document)\n",
    "identifiers = dict(zip(df_raw_nodes.name, df_raw_nodes.index))\n",
    "len(identifiers)"
   ]
  },
  {
   "cell_type": "code",
   "execution_count": 11,
   "metadata": {},
   "outputs": [],
   "source": [
    "dict_of_nodes = {}\n",
    "for idx in df_raw_nodes.index:\n",
    "    dict_of_nodes[idx] = Node(name=df_raw_nodes.loc[idx, \"name\"], id=identifiers[df_raw_nodes.loc[idx, \"name\"]], type=df_raw_nodes.loc[idx, \"node_type\"])\n",
    "\n",
    "import pickle\n",
    "save_dir = \"/media/hdd1/Anurag/Projects/Code/reactome_gnn/superpathway/data/nodes/nodes.pickle\"\n",
    "with open(save_dir, 'wb') as handle:\n",
    "    pickle.dump(dict_of_nodes, handle, protocol=pickle.HIGHEST_PROTOCOL)\n"
   ]
  },
  {
   "cell_type": "code",
   "execution_count": 28,
   "metadata": {},
   "outputs": [],
   "source": [
    "# save the identifiers dictionary \n",
    "import pickle\n",
    "save_dir = \"/media/hdd1/Anurag/Projects/Code/reactome_gnn/superpathway/data/nodes/node_identifiers.pickle\"\n",
    "with open(save_dir, 'wb') as handle:\n",
    "    pickle.dump(identifiers, handle, protocol=pickle.HIGHEST_PROTOCOL)"
   ]
  },
  {
   "cell_type": "code",
   "execution_count": 97,
   "metadata": {},
   "outputs": [
    {
     "data": {
      "text/plain": [
       "component>    24129\n",
       "member>        7170\n",
       "-a>            5337\n",
       "-a|            3266\n",
       "-t>            2120\n",
       "-t|             397\n",
       "Name: type, dtype: int64"
      ]
     },
     "execution_count": 97,
     "metadata": {},
     "output_type": "execute_result"
    }
   ],
   "source": [
    "# define the proteins -> complexes edges \n",
    "df_compositions = pd.read_csv(\"/media/hdd1/Anurag/Projects/Code/reactome_gnn/superpathway/data/edges/edges_raw.txt\", sep='\\t', header=None)\n",
    "df_compositions.rename(columns={0: \"parent\", 1:\"child\", 2: \"type\"}, inplace=True)\n",
    "df_compositions[\"type\"].value_counts()"
   ]
  },
  {
   "cell_type": "code",
   "execution_count": 98,
   "metadata": {},
   "outputs": [],
   "source": [
    "edge_types = {\n",
    "    \"component>\":\"component\",\n",
    "    \"member>\":\"component\", \n",
    "    \"-a>\":\"activation\", \n",
    "    \"-a|\":\"inhibition\", \n",
    "    \"-t>\":\"transcriptional_activation\",\n",
    "    \"-t|\":\"transcriptional_inhibition\",\n",
    "    }\n",
    "\n",
    "edge_attr_dict_raw = {\n",
    "    \"component\":False,\n",
    "    \"activation\":False,\n",
    "    \"inhibition\":False,\n",
    "    \"transcriptional_activation\":False,\n",
    "    \"transcriptional_inhibition\":False\n",
    "    }"
   ]
  },
  {
   "cell_type": "code",
   "execution_count": 99,
   "metadata": {},
   "outputs": [
    {
     "data": {
      "text/plain": [
       "component                     31299\n",
       "activation                     5337\n",
       "inhibition                     3266\n",
       "transcriptional_activation     2120\n",
       "transcriptional_inhibition      397\n",
       "Name: type, dtype: int64"
      ]
     },
     "execution_count": 99,
     "metadata": {},
     "output_type": "execute_result"
    }
   ],
   "source": [
    "df_compositions[\"type\"] = df_compositions[\"type\"].apply(lambda x : edge_types[x])\n",
    "df_compositions[\"type\"].value_counts()"
   ]
  },
  {
   "cell_type": "code",
   "execution_count": 41,
   "metadata": {},
   "outputs": [],
   "source": [
    "class Edge:\n",
    "    def __init__(self, source_id, target_id, attr_dict):\n",
    "        self.source_id = source_id\n",
    "        self.target_id = target_id\n",
    "        self.attr_dict = attr_dict\n",
    "    \n",
    "    def _get_source(self):\n",
    "        return self.source_id\n",
    "    \n",
    "    def _get_target(self):\n",
    "        return self.target_id\n",
    "    \n",
    "    def _get_attr(self):\n",
    "        return self.attr_dict\n",
    "    \n",
    "    def __eq__(self, other):\n",
    "        return (self._get_source() == other._get_source()) and (self._get_target() == other._get_target())\n",
    "    \n",
    "    def _update_dict(self, other):\n",
    "        final_dict = {}\n",
    "        for key in self._get_attr():\n",
    "            final_dict[key] = self._get_attr()[key] or other._get_attr()[key]\n",
    "        return final_dict"
   ]
  },
  {
   "cell_type": "code",
   "execution_count": 105,
   "metadata": {},
   "outputs": [],
   "source": [
    "list_of_edges = []\n",
    "for edge_type in edge_types:\n",
    "    \n",
    "    edge_name = edge_types[edge_type]\n",
    "    df_curr = df_compositions[df_compositions[\"type\"] == edge_type]\n",
    "    ignore = []\n",
    "    \n",
    "    for parent_name in df_curr[\"parent\"]:\n",
    "        if not (parent_name in ignore):\n",
    "            parent_id = identifiers[parent_name]\n",
    "            df_temp = df_curr[df_curr[\"parent\"] == parent_name]\n",
    "\n",
    "            for i in df_temp.index:\n",
    "                child_name = df_temp.loc[i, \"child\"]\n",
    "                child_id = identifiers[child_name]\n",
    "                attr_dict = edge_attr_dict_raw.copy()\n",
    "                attr_dict[edge_name] = True\n",
    "                list_of_edges.append(Edge(source_id=parent_id, target_id=child_id, attr_dict=attr_dict))\n",
    "            ignore.append(parent_name)"
   ]
  },
  {
   "cell_type": "code",
   "execution_count": 103,
   "metadata": {},
   "outputs": [
    {
     "data": {
      "text/plain": [
       "0"
      ]
     },
     "execution_count": 103,
     "metadata": {},
     "output_type": "execute_result"
    }
   ],
   "source": [
    "len(list_of_edges)"
   ]
  },
  {
   "cell_type": "code",
   "execution_count": 87,
   "metadata": {},
   "outputs": [],
   "source": [
    "# define proteins -> families edges\n",
    "df_family_comps = pd.read_csv(\"/media/hdd1/Anurag/Projects/Code/reactome_gnn/superpathway/data/edges/family_components.txt\", sep='\\t', header=None)\n",
    "df_family_comps.drop(2, axis=1, inplace=True)\n",
    "df_family_comps.rename(columns={0: \"parent\", 1:\"child\"}, inplace=True)"
   ]
  },
  {
   "cell_type": "code",
   "execution_count": 88,
   "metadata": {},
   "outputs": [],
   "source": [
    "ignore = []\n",
    "list_of_tuples = []\n",
    "for parent_name in df_family_comps[\"parent\"]:\n",
    "    if not (parent_name in ignore):\n",
    "        parent_id = identifiers[parent_name]\n",
    "        df_temp = df_family_comps[df_family_comps[\"parent\"] == parent_name]\n",
    "\n",
    "        for i in df_temp.index:\n",
    "            child_name = df_temp.loc[i, \"child\"]\n",
    "            child_id = identifiers[child_name]\n",
    "            list_of_tuples.append((parent_id, child_id))\n",
    "        ignore.append(parent_name)"
   ]
  },
  {
   "cell_type": "code",
   "execution_count": 89,
   "metadata": {},
   "outputs": [],
   "source": [
    "# write protein->family edges to a \\t file \n",
    "f = open(\"/media/hdd1/Anurag/Projects/Code/reactome_gnn/superpathway/data/edges/protein_family_edges.txt\", \"w\")\n",
    "for edge in list_of_tuples:\n",
    "    str_to_write = \"{}\\t{}\".format(edge[0], edge[1])\n",
    "    f.write(str_to_write)\n",
    "    f.write(\"\\n\")\n",
    "f.close()"
   ]
  },
  {
   "cell_type": "markdown",
   "metadata": {},
   "source": [
    "### Pathway stuff"
   ]
  },
  {
   "cell_type": "code",
   "execution_count": 32,
   "metadata": {},
   "outputs": [],
   "source": [
    "# pathway stuff \n",
    "f = open(\"/media/hdd1/Anurag/Projects/Code/reactome_gnn/superpathway/data/pathways_metadata/pid_120912_genesets.gmt\")\n",
    "lines = f.readlines()\n",
    "f.close()"
   ]
  },
  {
   "cell_type": "code",
   "execution_count": 33,
   "metadata": {},
   "outputs": [],
   "source": [
    "# put pathways into a dictionary \n",
    "count = 17364\n",
    "pathway_identifiers = {}\n",
    "pathway_compositions_by_ids = {}\n",
    "for i in lines:\n",
    "    pathway_name = i.split(\"\\t\")[0]\n",
    "    gene_set = i.split(\"\\t\")[1:]\n",
    "    pathway_identifiers[pathway_name] = count \n",
    "    \n",
    "    gene_set_by_ids = []\n",
    "\n",
    "    # currently pathway composition is name-based. But we want to convert those names in node ids from identifiers \n",
    "    for item in gene_set:\n",
    "        item = item.strip()\n",
    "        if not (\"smallMolecule\" in item):\n",
    "            id = identifiers.get(item)\n",
    "            if id:\n",
    "                gene_set_by_ids.append(id)\n",
    "    pathway_compositions_by_ids[count] = gene_set_by_ids\n",
    "\n",
    "    count += 1\n"
   ]
  },
  {
   "cell_type": "code",
   "execution_count": 34,
   "metadata": {},
   "outputs": [],
   "source": [
    "# add pathway identifiers to identifiers\n",
    "identifiers = {**identifiers, **pathway_identifiers}\n",
    "\n",
    "import pickle\n",
    "save_dir = \"/media/hdd1/Anurag/Projects/Code/reactome_gnn/superpathway/data/nodes/node_identifiers.pickle\"\n",
    "with open(save_dir, 'wb') as handle:\n",
    "    pickle.dump(identifiers, handle, protocol=pickle.HIGHEST_PROTOCOL)"
   ]
  },
  {
   "cell_type": "code",
   "execution_count": 35,
   "metadata": {},
   "outputs": [],
   "source": [
    "# load the nodes that already exist and add the pathway nodes to it \n",
    "with open(\"/media/hdd1/Anurag/Projects/Code/reactome_gnn/superpathway/data/nodes/nodes.pickle\", \"rb\") as input_file:\n",
    "     nodes_dict = pickle.load(input_file)"
   ]
  },
  {
   "cell_type": "code",
   "execution_count": 36,
   "metadata": {},
   "outputs": [],
   "source": [
    "for pathway in pathway_identifiers.keys():\n",
    "    name = pathway\n",
    "    id = pathway_identifiers[name]\n",
    "    type = \"pathway\"\n",
    "    nodes_dict[id] = Node(name=name, id=id, type=type)"
   ]
  },
  {
   "cell_type": "code",
   "execution_count": 37,
   "metadata": {},
   "outputs": [],
   "source": [
    "# save new nodes dict \n",
    "import pickle\n",
    "save_dir = \"/media/hdd1/Anurag/Projects/Code/reactome_gnn/superpathway/data/nodes/nodes.pickle\"\n",
    "with open(save_dir, 'wb') as handle:\n",
    "    pickle.dump(nodes_dict, handle, protocol=pickle.HIGHEST_PROTOCOL)"
   ]
  },
  {
   "cell_type": "code",
   "execution_count": 38,
   "metadata": {},
   "outputs": [
    {
     "data": {
      "text/plain": [
       "18725"
      ]
     },
     "execution_count": 38,
     "metadata": {},
     "output_type": "execute_result"
    }
   ],
   "source": [
    "len(nodes_dict)"
   ]
  },
  {
   "cell_type": "code",
   "execution_count": 42,
   "metadata": {},
   "outputs": [],
   "source": [
    "# create a dict of edges to pathways \n",
    "edge_attr_dict_raw = {\n",
    "    \"component\":True,\n",
    "    \"activation\":False,\n",
    "    \"inhibition\":False,\n",
    "    \"transcriptional_activation\":False,\n",
    "    \"transcriptional_inhibition\":False\n",
    "    }\n",
    "count = 0\n",
    "edges_to_pathways_dict = {}\n",
    "for pathway_node_id in pathway_compositions_by_ids:\n",
    "    list_of_constituents = pathway_compositions_by_ids[pathway_node_id]\n",
    "    target_id = pathway_node_id\n",
    "    for source_id in list_of_constituents:\n",
    "        edges_to_pathways_dict[count] = Edge(source_id=source_id, target_id=target_id, attr_dict=edge_attr_dict_raw)\n",
    "        count += 1"
   ]
  },
  {
   "cell_type": "code",
   "execution_count": 43,
   "metadata": {},
   "outputs": [],
   "source": [
    "save_dir = \"/media/hdd1/Anurag/Projects/Code/reactome_gnn/superpathway/data/edges/edges_to_pathways.pickle\"\n",
    "with open(save_dir, 'wb') as handle: \n",
    "    pickle.dump(edges_to_pathways_dict, handle, protocol=pickle.HIGHEST_PROTOCOL)\n"
   ]
  },
  {
   "cell_type": "code",
   "execution_count": null,
   "metadata": {},
   "outputs": [],
   "source": []
  }
 ],
 "metadata": {
  "kernelspec": {
   "display_name": "Python 3.9.12 ('damm')",
   "language": "python",
   "name": "python3"
  },
  "language_info": {
   "codemirror_mode": {
    "name": "ipython",
    "version": 3
   },
   "file_extension": ".py",
   "mimetype": "text/x-python",
   "name": "python",
   "nbconvert_exporter": "python",
   "pygments_lexer": "ipython3",
   "version": "3.9.12"
  },
  "orig_nbformat": 4,
  "vscode": {
   "interpreter": {
    "hash": "317979855715bdc64e281e6cc6b025cca10ad5b55e2bd83e4eb38ef59544576f"
   }
  }
 },
 "nbformat": 4,
 "nbformat_minor": 2
}
